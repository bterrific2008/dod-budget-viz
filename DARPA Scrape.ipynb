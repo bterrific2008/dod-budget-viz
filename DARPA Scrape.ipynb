{
 "cells": [
  {
   "cell_type": "code",
   "execution_count": 1,
   "id": "580e01f2",
   "metadata": {},
   "outputs": [],
   "source": [
    "import pdfreader\n",
    "from itertools import islice\n",
    "import re\n",
    "import tqdm"
   ]
  },
  {
   "cell_type": "code",
   "execution_count": 2,
   "id": "d867ec3a",
   "metadata": {},
   "outputs": [],
   "source": [
    "from pdfreader import PDFDocument, SimplePDFViewer"
   ]
  },
  {
   "cell_type": "code",
   "execution_count": 3,
   "id": "e2c87b7b",
   "metadata": {},
   "outputs": [],
   "source": [
    "fd = open('RDTE_Vol1_DARPA_MasterJustificationBook_PB_2022.pdf', 'rb')\n",
    "doc = PDFDocument(fd)"
   ]
  },
  {
   "cell_type": "code",
   "execution_count": 4,
   "id": "9ffd0863",
   "metadata": {},
   "outputs": [
    {
     "data": {
      "text/plain": [
       "'1.4'"
      ]
     },
     "execution_count": 4,
     "metadata": {},
     "output_type": "execute_result"
    }
   ],
   "source": [
    "doc.header.version"
   ]
  },
  {
   "cell_type": "code",
   "execution_count": 5,
   "id": "d85cbd95",
   "metadata": {},
   "outputs": [
    {
     "data": {
      "text/plain": [
       "{'Keywords': 'Budget',\n",
       " 'ModDate': datetime.datetime(2021, 5, 19, 10, 22, 35, tzinfo=tzoffset(None, -14400)),\n",
       " 'CreationDate': datetime.datetime(2021, 5, 19, 10, 22, 34, tzinfo=tzoffset(None, -14400)),\n",
       " 'Producer': 'iText 2.1.7 by 1T3XT',\n",
       " 'Subject': 'Budget Justification',\n",
       " 'Author': 'Office of the Under Secretary of Defense (Comptroller)',\n",
       " 'Title': 'Justification Book'}"
      ]
     },
     "execution_count": 5,
     "metadata": {},
     "output_type": "execute_result"
    }
   ],
   "source": [
    "doc.metadata"
   ]
  },
  {
   "cell_type": "code",
   "execution_count": 6,
   "id": "2ed305c2",
   "metadata": {},
   "outputs": [
    {
     "data": {
      "text/plain": [
       "'Catalog'"
      ]
     },
     "execution_count": 6,
     "metadata": {},
     "output_type": "execute_result"
    }
   ],
   "source": [
    "doc.root.Type"
   ]
  },
  {
   "cell_type": "code",
   "execution_count": 21,
   "id": "a5bcafd0",
   "metadata": {},
   "outputs": [],
   "source": [
    "page_21 = next(islice(doc.pages(), 20, 21))"
   ]
  },
  {
   "cell_type": "code",
   "execution_count": 22,
   "id": "b38ff978",
   "metadata": {},
   "outputs": [
    {
     "data": {
      "text/plain": [
       "[0, 0, 792, 612]"
      ]
     },
     "execution_count": 22,
     "metadata": {},
     "output_type": "execute_result"
    }
   ],
   "source": [
    "page_21.MediaBox"
   ]
  },
  {
   "cell_type": "code",
   "execution_count": 23,
   "id": "93732d9f",
   "metadata": {},
   "outputs": [
    {
     "data": {
      "text/plain": [
       "'Pages'"
      ]
     },
     "execution_count": 23,
     "metadata": {},
     "output_type": "execute_result"
    }
   ],
   "source": [
    "page_six.Parent.Type"
   ]
  },
  {
   "cell_type": "code",
   "execution_count": 32,
   "id": "1d9fe9a7",
   "metadata": {},
   "outputs": [
    {
     "data": {
      "text/plain": [
       "100"
      ]
     },
     "execution_count": 32,
     "metadata": {},
     "output_type": "execute_result"
    }
   ],
   "source": [
    "page_six.Parent.Parent.Count"
   ]
  },
  {
   "cell_type": "code",
   "execution_count": 55,
   "id": "6bc005f0",
   "metadata": {},
   "outputs": [],
   "source": [
    "viewer = SimplePDFViewer(fd)"
   ]
  },
  {
   "cell_type": "code",
   "execution_count": 56,
   "id": "8c7a6cbb",
   "metadata": {},
   "outputs": [
    {
     "name": "stderr",
     "output_type": "stream",
     "text": [
      "254it [02:09,  1.96it/s]\n"
     ]
    }
   ],
   "source": [
    "page_texts = {}\n",
    "for i, canvas in tqdm.tqdm(enumerate(viewer)):\n",
    "    page_texts[i] = canvas.text_content"
   ]
  },
  {
   "cell_type": "code",
   "execution_count": 25,
   "id": "63b1e7bc",
   "metadata": {},
   "outputs": [
    {
     "data": {
      "text/plain": [
       "254"
      ]
     },
     "execution_count": 25,
     "metadata": {},
     "output_type": "execute_result"
    }
   ],
   "source": [
    "len(page_texts)"
   ]
  },
  {
   "cell_type": "code",
   "execution_count": 95,
   "id": "9ef004c6",
   "metadata": {},
   "outputs": [],
   "source": [
    "def extract_content(page_text):\n",
    "    content = re.findall('\\[\\(.*\\)\\]', page_text)\n",
    "    return content[27:]"
   ]
  },
  {
   "cell_type": "code",
   "execution_count": 20,
   "id": "e185fc7b",
   "metadata": {},
   "outputs": [
    {
     "data": {
      "text/plain": [
       "'\\n q\\n q\\n1 0 0 -1 0 612 cm\\n q\\n1 0 0 1 18 54 cm\\n0 g\\n BT\\n/F16 12 Tf\\n1 0 0 -1 333.70800781 10.30799961 Tm\\n[(UNCLASSIFIED)] TJ\\n ET\\n Q\\n q\\n1 0 0 1 18 54 cm\\n q\\n1 0 0 1 0.25 17.75 cm\\n q\\n-0.25 0.25 m\\n-0.5 0 l\\n756 0 l\\n755.75 0.25 l\\n755.5 0.5 l\\n0 0.5 l\\n h\\n W\\n n\\n0 G\\n[] 0 d\\n0.5 w\\n-0.5 0.25 m\\n756 0.25 l\\n S\\n Q\\n q\\n755.75 0.25 m\\n756 0 l\\n756 487 l\\n755.75 486.75 l\\n755.5 486.5 l\\n755.5 0.5 l\\n h\\n W\\n n\\n0 G\\n[] 0 d\\n0.5 w\\n755.75 0 m\\n755.75 487 l\\n S\\n Q\\n q\\n755.75 486.75 m\\n756 487 l\\n-0.5 487 l\\n-0.25 486.75 l\\n0 486.5 l\\n755.5 486.5 l\\n h\\n W\\n n\\n0 G\\n[] 0 d\\n0.5 w\\n-0.5 486.75 m\\n756 486.75 l\\n S\\n Q\\n q\\n-0.25 486.75 m\\n-0.5 487 l\\n-0.5 0 l\\n-0.25 0.25 l\\n0 0.5 l\\n0 486.5 l\\n h\\n W\\n n\\n0 G\\n[] 0 d\\n0.5 w\\n-0.25 0 m\\n-0.25 487 l\\n S\\n Q\\n Q\\n Q\\n q\\n1 0 0 1 18 558 cm\\n0 g\\n BT\\n/F15 10 Tf\\n1 0 0 -1 0 18.19499969 Tm\\n[(PE 0601101E: )] TJ\\n/F17 10 Tf\\n1 0 0 -1 67.20999908 18.19499969 Tm\\n[(DEFENSE RESEARCH SCIENCES)] TJ\\n ET\\n q\\n1 0 0 1 324 0 cm\\n BT\\n/F16 12 Tf\\n1 0 0 -1 9.70800018 17.50799942 Tm\\n[(UNCLASSIFIED)] TJ\\n ET\\n Q\\n q\\n1 0 0 1 432 0 cm\\n Q\\n q\\n1 0 0 1 0 21.6 cm\\n BT\\n/F15 10 Tf\\n1 0 0 -1 0 8.59500027 Tm\\n[(Defense Advanced Research Projects Agency)] TJ\\n ET\\n q\\n1 0 0 1 252 0 cm\\n BT\\n/F15 10 Tf\\n1 0 0 -1 97.66999817 8.59500027 Tm\\n[(Page )] TJ\\n1 0 0 -1 123.77999878 8.59500027 Tm\\n[(2)] TJ\\n1 0 0 -1 129.33999634 8.59500027 Tm\\n[( of )] TJ\\n1 0 0 -1 143.21000671 8.59500027 Tm\\n[(36)] TJ\\n ET\\n Q\\n q\\n1 0 0 1 504 0 cm\\n BT\\n/F15 10 Tf\\n1 0 0 -1 0 8.59500027 Tm\\n[(R-1 Line #2)] TJ\\n ET\\n Q\\n Q\\n Q\\n q\\n1 0 0 1 18 72 cm\\n q\\n151.199997 55.02 m\\n0 55.02 l\\n0 54.77 l\\n151.199997 54.77 l\\n h\\n W\\n n\\n0 G\\n[] 0 d\\n0.5 w\\n0 55.02 m\\n151.199997 55.02 l\\n S\\n Q\\n q\\n1 0 0 1 151.2 0 cm\\n q\\n50.400002 55.02 m\\n0 55.02 l\\n0 54.77 l\\n50.400002 54.77 l\\n h\\n W\\n n\\n0 G\\n[] 0 d\\n0.5 w\\n0 55.02 m\\n50.400002 55.02 l\\n S\\n Q\\n Q\\n q\\n1 0 0 1 201.6 0 cm\\n q\\n50.400002 55.02 m\\n0 55.02 l\\n0 54.77 l\\n50.400002 54.77 l\\n h\\n W\\n n\\n0 G\\n[] 0 d\\n0.5 w\\n0 55.02 m\\n50.400002 55.02 l\\n S\\n Q\\n Q\\n q\\n1 0 0 1 252 0 cm\\n q\\n50.400002 55.02 m\\n0 55.02 l\\n0 54.77 l\\n50.400002 54.77 l\\n h\\n W\\n n\\n0 G\\n[] 0 d\\n0.5 w\\n0 55.02 m\\n50.400002 55.02 l\\n S\\n Q\\n Q\\n q\\n1 0 0 1 302.4 0 cm\\n q\\n50.400002 55.02 m\\n0 55.02 l\\n0 54.77 l\\n50.400002 54.77 l\\n h\\n W\\n n\\n0 G\\n[] 0 d\\n0.5 w\\n0 55.02 m\\n50.400002 55.02 l\\n S\\n Q\\n Q\\n q\\n1 0 0 1 352.8 0 cm\\n q\\n50.400002 55.02 m\\n0 55.02 l\\n0 54.77 l\\n50.400002 54.77 l\\n h\\n W\\n n\\n0 G\\n[] 0 d\\n0.5 w\\n0 55.02 m\\n50.400002 55.02 l\\n S\\n Q\\n Q\\n q\\n1 0 0 1 403.2 0 cm\\n q\\n50.400002 55.02 m\\n0 55.02 l\\n0 54.77 l\\n50.400002 54.77 l\\n h\\n W\\n n\\n0 G\\n[] 0 d\\n0.5 w\\n0 55.02 m\\n50.400002 55.02 l\\n S\\n Q\\n Q\\n q\\n1 0 0 1 453.6 0 cm\\n q\\n50.400002 55.02 m\\n0 55.02 l\\n0 54.77 l\\n50.400002 54.77 l\\n h\\n W\\n n\\n0 G\\n[] 0 d\\n0.5 w\\n0 55.02 m\\n50.400002 55.02 l\\n S\\n Q\\n Q\\n q\\n1 0 0 1 504 0 cm\\n q\\n50.400002 55.02 m\\n0 55.02 l\\n0 54.77 l\\n50.400002 54.77 l\\n h\\n W\\n n\\n0 G\\n[] 0 d\\n0.5 w\\n0 55.02 m\\n50.400002 55.02 l\\n S\\n Q\\n Q\\n q\\n1 0 0 1 554.4 0 cm\\n q\\n50.400002 55.02 m\\n0 55.02 l\\n0 54.77 l\\n50.400002 54.77 l\\n h\\n W\\n n\\n0 G\\n[] 0 d\\n0.5 w\\n0 55.02 m\\n50.400002 55.02 l\\n S\\n Q\\n Q\\n q\\n1 0 0 1 604.8 0 cm\\n q\\n50.400002 55.02 m\\n0 55.02 l\\n0 54.77 l\\n50.400002 54.77 l\\n h\\n W\\n n\\n0 G\\n[] 0 d\\n0.5 w\\n0 55.02 m\\n50.400002 55.02 l\\n S\\n Q\\n Q\\n q\\n1 0 0 1 655.2 0 cm\\n q\\n50.400002 55.02 m\\n0 55.02 l\\n0 54.77 l\\n50.400002 54.77 l\\n h\\n W\\n n\\n0 G\\n[] 0 d\\n0.5 w\\n0 55.02 m\\n50.400002 55.02 l\\n S\\n Q\\n Q\\n q\\n1 0 0 1 705.6 0 cm\\n q\\n50.400002 55.02 m\\n0 55.02 l\\n0 54.77 l\\n50.400002 54.77 l\\n h\\n W\\n n\\n0 G\\n[] 0 d\\n0.5 w\\n0 55.02 m\\n50.400002 55.02 l\\n S\\n Q\\n Q\\n q\\n1 0 0 1 0.25 -0.25 cm\\n q\\n-0.25 0.25 m\\n-0.5 0 l\\n150.949997 0 l\\n150.949997 0.25 l\\n150.949997 0.5 l\\n0 0.5 l\\n h\\n W\\n n\\n0 G\\n[] 0 d\\n0.5 w\\n-0.5 0.25 m\\n150.949997 0.25 l\\n S\\n Q\\n q\\n150.949997 15.76 m\\n-0.25 15.76 l\\n0 15.51 l\\n150.949997 15.51 l\\n h\\n W\\n n\\n0 G\\n[] 0 d\\n0.5 w\\n-0.25 15.76 m\\n150.949997 15.76 l\\n S\\n Q\\n q\\n-0.25 15.76 m\\n-0.5 15.76 l\\n-0.5 0 l\\n-0.25 0.25 l\\n0 0.5 l\\n0 15.51 l\\n h\\n W\\n n\\n0 G\\n[] 0 d\\n0.5 w\\n-0.25 0 m\\n-0.25 15.76 l\\n S\\n Q\\n Q\\n q\\n1 0 0 1 151.2 -0.25 cm\\n q\\n0 0.25 m\\n0 0 l\\n50.400002 0 l\\n50.400002 0.25 l\\n50.400002 0.5 l\\n0 0.5 l\\n h\\n W\\n n\\n0 G\\n[] 0 d\\n0.5 w\\n0 0.25 m\\n50.400002 0.25 l\\n S\\n Q\\n q\\n50.400002 15.76 m\\n0 15.76 l\\n0 15.51 l\\n50.400002 15.51 l\\n h\\n W\\n n\\n0 G\\n[] 0 d\\n0.5 w\\n0 15.76 m\\n50.400002 15.76 l\\n S\\n Q\\n Q\\n q\\n1 0 0 1 201.6 -0.25 cm\\n q\\n0 0.25 m\\n0 0 l\\n50.400002 0 l\\n50.400002 0.25 l\\n50.400002 0.5 l\\n0 0.5 l\\n h\\n W\\n n\\n0 G\\n[] 0 d\\n0.5 w\\n0 0.25 m\\n50.400002 0.25 l\\n S\\n Q\\n q\\n50.400002 15.76 m\\n0 15.76 l\\n0 15.51 l\\n50.400002 15.51 l\\n h\\n W\\n n\\n0 G\\n[] 0 d\\n0.5 w\\n0 15.76 m\\n50.400002 15.76 l\\n S\\n Q\\n Q\\n q\\n1 0 0 1 252 -0.25 cm\\n q\\n0 0.25 m\\n0 0 l\\n50.400002 0 l\\n50.400002 0.25 l\\n50.400002 0.5 l\\n0 0.5 l\\n h\\n W\\n n\\n0 G\\n[] 0 d\\n0.5 w\\n0 0.25 m\\n50.400002 0.25 l\\n S\\n Q\\n q\\n50.400002 15.76 m\\n0 15.76 l\\n0 15.51 l\\n50.400002 15.51 l\\n h\\n W\\n n\\n0 G\\n[] 0 d\\n0.5 w\\n0 15.76 m\\n50.400002 15.76 l\\n S\\n Q\\n Q\\n q\\n1 0 0 1 302.4 -0.25 cm\\n q\\n0 0.25 m\\n0 0 l\\n50.400002 0 l\\n50.400002 0.25 l\\n50.400002 0.5 l\\n0 0.5 l\\n h\\n W\\n n\\n0 G\\n[] 0 d\\n0.5 w\\n0 0.25 m\\n50.400002 0.25 l\\n S\\n Q\\n q\\n50.400002 15.76 m\\n0 15.76 l\\n0 15.51 l\\n50.400002 15.51 l\\n h\\n W\\n n\\n0 G\\n[] 0 d\\n0.5 w\\n0 15.76 m\\n50.400002 15.76 l\\n S\\n Q\\n Q\\n q\\n1 0 0 1 352.8 -0.25 cm\\n q\\n0 0.25 m\\n0 0 l\\n50.400002 0 l\\n50.400002 0.25 l\\n50.400002 0.5 l\\n0 0.5 l\\n h\\n W\\n n\\n0 G\\n[] 0 d\\n0.5 w\\n0 0.25 m\\n50.400002 0.25 l\\n S\\n Q\\n q\\n50.400002 15.76 m\\n0 15.76 l\\n0 15.51 l\\n50.400002 15.51 l\\n h\\n W\\n n\\n0 G\\n[] 0 d\\n0.5 w\\n0 15.76 m\\n50.400002 15.76 l\\n S\\n Q\\n Q\\n q\\n1 0 0 1 403.2 -0.25 cm\\n q\\n0 0.25 m\\n0 0 l\\n50.400002 0 l\\n50.400002 0.25 l\\n50.400002 0.5 l\\n0 0.5 l\\n h\\n W\\n n\\n0 G\\n[] 0 d\\n0.5 w\\n0 0.25 m\\n50.400002 0.25 l\\n S\\n Q\\n q\\n50.400002 15.76 m\\n0 15.76 l\\n0 15.51 l\\n50.400002 15.51 l\\n h\\n W\\n n\\n0 G\\n[] 0 d\\n0.5 w\\n0 15.76 m\\n50.400002 15.76 l\\n S\\n Q\\n Q\\n q\\n1 0 0 1 453.6 -0.25 cm\\n q\\n0 0.25 m\\n0 0 l\\n50.400002 0 l\\n50.400002 0.25 l\\n50.400002 0.5 l\\n0 0.5 l\\n h\\n W\\n n\\n0 G\\n[] 0 d\\n0.5 w\\n0 0.25 m\\n50.400002 0.25 l\\n S\\n Q\\n q\\n50.400002 15.76 m\\n0 15.76 l\\n0 15.51 l\\n50.400002 15.51 l\\n h\\n W\\n n\\n0 G\\n[] 0 d\\n0.5 w\\n0 15.76 m\\n50.400002 15.76 l\\n S\\n Q\\n Q\\n q\\n1 0 0 1 504 -0.25 cm\\n q\\n0 0.25 m\\n0 0 l\\n50.400002 0 l\\n50.400002 0.25 l\\n50.400002 0.5 l\\n0 0.5 l\\n h\\n W\\n n\\n0 G\\n[] 0 d\\n0.5 w\\n0 0.25 m\\n50.400002 0.25 l\\n S\\n Q\\n q\\n50.400002 15.76 m\\n0 15.76 l\\n0 15.51 l\\n50.400002 15.51 l\\n h\\n W\\n n\\n0 G\\n[] 0 d\\n0.5 w\\n0 15.76 m\\n50.400002 15.76 l\\n S\\n Q\\n Q\\n q\\n1 0 0 1 554.4 -0.25 cm\\n q\\n0 0.25 m\\n0 0 l\\n50.400002 0 l\\n50.400002 0.25 l\\n50.150002 0.5 l\\n0 0.5 l\\n h\\n W\\n n\\n0 G\\n[] 0 d\\n0.5 w\\n0 0.25 m\\n50.400002 0.25 l\\n S\\n Q\\n q\\n50.400002 0.25 m\\n50.400002 15.76 l\\n50.150002 15.51 l\\n50.150002 0.5 l\\n h\\n W\\n n\\n0 G\\n[] 0 d\\n0.5 w\\n50.400002 0.25 m\\n50.400002 15.76 l\\n S\\n Q\\n q\\n50.400002 15.76 m\\n0 15.76 l\\n0 15.51 l\\n50.150002 15.51 l\\n h\\n W\\n n\\n0 G\\n[] 0 d\\n0.5 w\\n0 15.76 m\\n50.400002 15.76 l\\n S\\n Q\\n Q\\n q\\n1 0 0 1 2.25 0.25 cm\\n0 g\\n BT\\n/F16 10 Tf\\n1 0 0 -1 0 10.59500027 Tm\\n[(Exhibit R-2)] TJ\\n/F15 10 Tf\\n1 0 0 -1 52.16999817 10.59500027 Tm\\n[(,)] TJ\\n/F16 10 Tf\\n1 0 0 -1 54.93999863 10.59500027 Tm\\n[( RDT&E Budget Item Justification: )] TJ\\n/F15 10 Tf\\n1 0 0 -1 220.33999634 10.59500027 Tm\\n[(PB\\xa02022\\xa0Defense Advanced Research Projects Agency)] TJ\\n ET\\n Q\\n q\\n1 0 0 1 605.05 0 cm\\n q\\n50.150002 15.51 m\\n-0.25 15.51 l\\n0 15.26 l\\n50.150002 15.26 l\\n h\\n W\\n n\\n0 G\\n[] 0 d\\n0.5 w\\n-0.25 15.51 m\\n50.150002 15.51 l\\n S\\n Q\\n q\\n-0.25 15.51 m\\n-0.25 0 l\\n0 0 l\\n0 15.26 l\\n h\\n W\\n n\\n0 G\\n[] 0 d\\n0.5 w\\n-0.25 0 m\\n-0.25 15.51 l\\n S\\n Q\\n Q\\n q\\n1 0 0 1 655.2 0 cm\\n q\\n50.400002 15.51 m\\n0 15.51 l\\n0 15.26 l\\n50.400002 15.26 l\\n h\\n W\\n n\\n0 G\\n[] 0 d\\n0.5 w\\n0 15.51 m\\n50.400002 15.51 l\\n S\\n Q\\n Q\\n q\\n1 0 0 1 705.6 0 cm\\n q\\n50.400002 15.51 m\\n0 15.51 l\\n0 15.26 l\\n50.400002 15.26 l\\n h\\n W\\n n\\n0 G\\n[] 0 d\\n0.5 w\\n0 15.51 m\\n50.400002 15.51 l\\n S\\n Q\\n Q\\n q\\n1 0 0 1 607.05 0 cm\\n0 g\\n BT\\n/F16 10 Tf\\n1 0 0 -1 0 10.59500027 Tm\\n[(Date: )] TJ\\n/F15 10 Tf\\n1 0 0 -1 27.77000046 10.59500027 Tm\\n[(May 2021)] TJ\\n ET\\n Q\\n q\\n1 0 0 1 0 15.26 cm\\n q\\n0 0.25 m\\n151.199997 0.25 l\\n151.199997 0.5 l\\n0 0.5 l\\n h\\n W\\n n\\n0 G\\n[] 0 d\\n0.5 w\\n0 0.25 m\\n151.199997 0.25 l\\n S\\n Q\\n Q\\n q\\n1 0 0 1 151.2 15.26 cm\\n q\\n0 0.25 m\\n50.400002 0.25 l\\n50.400002 0.5 l\\n0 0.5 l\\n h\\n W\\n n\\n0 G\\n[] 0 d\\n0.5 w\\n0 0.25 m\\n50.400002 0.25 l\\n S\\n Q\\n Q\\n q\\n1 0 0 1 201.6 15.26 cm\\n q\\n0 0.25 m\\n50.400002 0.25 l\\n50.400002 0.5 l\\n0 0.5 l\\n h\\n W\\n n\\n0 G\\n[] 0 d\\n0.5 w\\n0 0.25 m\\n50.400002 0.25 l\\n S\\n Q\\n Q\\n q\\n1 0 0 1 252 15.26 cm\\n q\\n0 0.25 m\\n50.400002 0.25 l\\n50.400002 0.5 l\\n0 0.5 l\\n h\\n W\\n n\\n0 G\\n[] 0 d\\n0.5 w\\n0 0.25 m\\n50.400002 0.25 l\\n S\\n Q\\n Q\\n q\\n1 0 0 1 302.4 15.26 cm\\n q\\n0 0.25 m\\n50.400002 0.25 l\\n50.150002 0.5 l\\n0 0.5 l\\n h\\n W\\n n\\n0 G\\n[] 0 d\\n0.5 w\\n0 0.25 m\\n50.400002 0.25 l\\n S\\n Q\\n q\\n50.400002 0.25 m\\n50.400002 39.509998 l\\n50.150002 39.509998 l\\n50.150002 0.5 l\\n h\\n W\\n n\\n0 G\\n[] 0 d\\n0.5 w\\n50.400002 0.25 m\\n50.400002 39.509998 l\\n S\\n Q\\n Q\\n q\\n1 0 0 1 2 15.76 cm\\n0 g\\n BT\\n/F16 10 Tf\\n1 0 0 -1 0 10.59000015 Tm\\n[(Appropriation/Budget Activity)] TJ\\n/F15 10 Tf\\n1 0 0 -1 0 22.59499931 Tm\\n[(0400: )] TJ\\n/F17 10 Tf\\n1 0 0 -1 27.78000069 22.59499931 Tm\\n[(Research, Development, T) 91 (est & Evaluation, Defense-W) 8 (ide)] TJ\\n/F16 10 Tf\\n1 0 0 -1 286.73001099 22.59499931 Tm\\n[( / )] TJ\\n/F15 10 Tf\\n1 0 0 -1 295.04000854 22.59499931 Tm\\n[(BA 1: )] TJ\\n/F17 10 Tf\\n1 0 0 -1 322.23001099 22.59499931 Tm\\n[(Basic)] TJ\\n1 0 0 -1 0 34.60499954 Tm\\n[(Research)] TJ\\n ET\\n Q\\n q\\n1 0 0 1 353.05 15.26 cm\\n q\\n-0.25 0.25 m\\n50.150002 0.25 l\\n50.150002 0.5 l\\n0 0.5 l\\n h\\n W\\n n\\n0 G\\n[] 0 d\\n0.5 w\\n-0.25 0.25 m\\n50.150002 0.25 l\\n S\\n Q\\n q\\n-0.25 39.509998 m\\n-0.25 0.25 l\\n0 0.5 l\\n0 39.509998 l\\n h\\n W\\n n\\n0 G\\n[] 0 d\\n0.5 w\\n-0.25 0.25 m\\n-0.25 39.509998 l\\n S\\n Q\\n Q\\n q\\n1 0 0 1 403.2 15.26 cm\\n q\\n0 0.25 m\\n50.400002 0.25 l\\n50.400002 0.5 l\\n0 0.5 l\\n h\\n W\\n n\\n0 G\\n[] 0 d\\n0.5 w\\n0 0.25 m\\n50.400002 0.25 l\\n S\\n Q\\n Q\\n q\\n1 0 0 1 453.6 15.26 cm\\n q\\n0 0.25 m\\n50.400002 0.25 l\\n50.400002 0.5 l\\n0 0.5 l\\n h\\n W\\n n\\n0 G\\n[] 0 d\\n0.5 w\\n0 0.25 m\\n50.400002 0.25 l\\n S\\n Q\\n Q\\n q\\n1 0 0 1 504 15.26 cm\\n q\\n0 0.25 m\\n50.400002 0.25 l\\n50.400002 0.5 l\\n0 0.5 l\\n h\\n W\\n n\\n0 G\\n[] 0 d\\n0.5 w\\n0 0.25 m\\n50.400002 0.25 l\\n S\\n Q\\n Q\\n q\\n1 0 0 1 554.4 15.26 cm\\n q\\n0 0.25 m\\n50.400002 0.25 l\\n50.400002 0.5 l\\n0 0.5 l\\n h\\n W\\n n\\n0 G\\n[] 0 d\\n0.5 w\\n0 0.25 m\\n50.400002 0.25 l\\n S\\n Q\\n Q\\n q\\n1 0 0 1 604.8 15.26 cm\\n q\\n0 0.25 m\\n50.400002 0.25 l\\n50.400002 0.5 l\\n0 0.5 l\\n h\\n W\\n n\\n0 G\\n[] 0 d\\n0.5 w\\n0 0.25 m\\n50.400002 0.25 l\\n S\\n Q\\n Q\\n q\\n1 0 0 1 655.2 15.26 cm\\n q\\n0 0.25 m\\n50.400002 0.25 l\\n50.400002 0.5 l\\n0 0.5 l\\n h\\n W\\n n\\n0 G\\n[] 0 d\\n0.5 w\\n0 0.25 m\\n50.400002 0.25 l\\n S\\n Q\\n Q\\n q\\n1 0 0 1 705.6 15.26 cm\\n q\\n0 0.25 m\\n50.400002 0.25 l\\n50.150002 0.5 l\\n0 0.5 l\\n h\\n W\\n n\\n0 G\\n[] 0 d\\n0.5 w\\n0 0.25 m\\n50.400002 0.25 l\\n S\\n Q\\n q\\n50.400002 0.25 m\\n50.650002 0.25 l\\n50.650002 39.509998 l\\n50.400002 39.509998 l\\n50.150002 39.509998 l\\n50.150002 0.5 l\\n h\\n W\\n n\\n0 G\\n[] 0 d\\n0.5 w\\n50.400002 0.25 m\\n50.400002 39.509998 l\\n S\\n Q\\n Q\\n q\\n1 0 0 1 355.05 15.76 cm\\n0 g\\n BT\\n/F16 10 Tf\\n1 0 0 -1 0 10.59000015 Tm\\n[(R-1 Program Element \\\\(Number/Name\\\\))] TJ\\n/F15 10 Tf\\n1 0 0 -1 0 22.59499931 Tm\\n[(PE 0601101E)] TJ\\n/F16 10 Tf\\n1 0 0 -1 61.66999817 22.59499931 Tm\\n[( / )] TJ\\n/F17 10 Tf\\n1 0 0 -1 69.98000336 22.59499931 Tm\\n[(DEFENSE RESEARCH SCIENCES)] TJ\\n ET\\n Q\\n q\\n1 0 0 1 0 54.77 cm\\n q\\n0 0.25 m\\n151.199997 0.25 l\\n151.199997 0.5 l\\n0 0.5 l\\n h\\n W\\n n\\n0 G\\n[] 0 d\\n0.5 w\\n0 0.25 m\\n151.199997 0.25 l\\n S\\n Q\\n Q\\n q\\n1 0 0 1 151.2 54.77 cm\\n q\\n0 0.25 m\\n50.400002 0.25 l\\n50.400002 0.5 l\\n0 0.5 l\\n h\\n W\\n n\\n0 G\\n[] 0 d\\n0.5 w\\n0 0.25 m\\n50.400002 0.25 l\\n S\\n Q\\n Q\\n q\\n1 0 0 1 201.6 54.77 cm\\n q\\n0 0.25 m\\n50.400002 0.25 l\\n50.400002 0.5 l\\n0 0.5 l\\n h\\n W\\n n\\n0 G\\n[] 0 d\\n0.5 w\\n0 0.25 m\\n50.400002 0.25 l\\n S\\n Q\\n Q\\n q\\n1 0 0 1 252 54.77 cm\\n q\\n0 0.25 m\\n50.400002 0.25 l\\n50.400002 0.5 l\\n0 0.5 l\\n h\\n W\\n n\\n0 G\\n[] 0 d\\n0.5 w\\n0 0.25 m\\n50.400002 0.25 l\\n S\\n Q\\n Q\\n q\\n1 0 0 1 302.4 54.77 cm\\n q\\n0 0.25 m\\n50.400002 0.25 l\\n50.400002 0.5 l\\n0 0.5 l\\n h\\n W\\n n\\n0 G\\n[] 0 d\\n0.5 w\\n0 0.25 m\\n50.400002 0.25 l\\n S\\n Q\\n Q\\n q\\n1 0 0 1 352.8 54.77 cm\\n q\\n0 0.25 m\\n50.400002 0.25 l\\n50.400002 0.5 l\\n0 0.5 l\\n h\\n W\\n n\\n0 G\\n[] 0 d\\n0.5 w\\n0 0.25 m\\n50.400002 0.25 l\\n S\\n Q\\n Q\\n q\\n1 0 0 1 403.2 54.77 cm\\n q\\n0 0.25 m\\n50.400002 0.25 l\\n50.400002 0.5 l\\n0 0.5 l\\n h\\n W\\n n\\n0 G\\n[] 0 d\\n0.5 w\\n0 0.25 m\\n50.400002 0.25 l\\n S\\n Q\\n Q\\n q\\n1 0 0 1 453.6 54.77 cm\\n q\\n0 0.25 m\\n50.400002 0.25 l\\n50.400002 0.5 l\\n0 0.5 l\\n h\\n W\\n n\\n0 G\\n[] 0 d\\n0.5 w\\n0 0.25 m\\n50.400002 0.25 l\\n S\\n Q\\n Q\\n q\\n1 0 0 1 504 54.77 cm\\n q\\n0 0.25 m\\n50.400002 0.25 l\\n50.400002 0.5 l\\n0 0.5 l\\n h\\n W\\n n\\n0 G\\n[] 0 d\\n0.5 w\\n0 0.25 m\\n50.400002 0.25 l\\n S\\n Q\\n Q\\n q\\n1 0 0 1 554.4 54.77 cm\\n q\\n0 0.25 m\\n50.400002 0.25 l\\n50.400002 0.5 l\\n0 0.5 l\\n h\\n W\\n n\\n0 G\\n[] 0 d\\n0.5 w\\n0 0.25 m\\n50.400002 0.25 l\\n S\\n Q\\n Q\\n q\\n1 0 0 1 604.8 54.77 cm\\n q\\n0 0.25 m\\n50.400002 0.25 l\\n50.400002 0.5 l\\n0 0.5 l\\n h\\n W\\n n\\n0 G\\n[] 0 d\\n0.5 w\\n0 0.25 m\\n50.400002 0.25 l\\n S\\n Q\\n Q\\n q\\n1 0 0 1 655.2 54.77 cm\\n q\\n0 0.25 m\\n50.400002 0.25 l\\n50.400002 0.5 l\\n0 0.5 l\\n h\\n W\\n n\\n0 G\\n[] 0 d\\n0.5 w\\n0 0.25 m\\n50.400002 0.25 l\\n S\\n Q\\n Q\\n q\\n1 0 0 1 705.6 54.77 cm\\n q\\n0 0.25 m\\n50.400002 0.25 l\\n50.400002 0.5 l\\n0 0.5 l\\n h\\n W\\n n\\n0 G\\n[] 0 d\\n0.5 w\\n0 0.25 m\\n50.400002 0.25 l\\n S\\n Q\\n Q\\n q\\n1 0 0 1 5 55.27 cm\\n0 g\\n BT\\n/F15 10 Tf\\n1 0 0 -1 0 8.59500027 Tm\\n[(and magnetic components to reduce the size of Electromagnetic \\\\(EM\\\\) and sensing systems. Other research could support field-portable electronics with reduced power)] TJ\\n1 0 0 -1 0 20.59499931 Tm\\n[(requirements, ultra-high density information storage \"on-a-chip\", and new approaches to nanometer-scale structures, molecules, and devices.)] TJ\\n1 0 0 -1 0 44.59500122 Tm\\n[(The Beyond Scaling Sciences project supports investigations into materials, devices, and architectures to provide continued improvements in electronics performance)] TJ\\n1 0 0 -1 0 56.59500122 Tm\\n[(with or without the benefit of Moore\\'s Law \\\\(silicon scaling\\\\). Within the next ten years, traditional scaling will start to encounter the fundamental physical limits of silicon,)] TJ\\n1 0 0 -1 0 68.59500122 Tm\\n[(requiring fresh approaches to new electronic systems. Over the short term, DoD will therefore need to unleash circuit specialization in order to maximize the benefit of)] TJ\\n1 0 0 -1 0 80.59500122 Tm\\n[(traditional silicon. Over the longer term, DoD and the nation will need to engage the computer, material, and mechanical sciences to explore electronics improvements)] TJ\\n1 0 0 -1 0 92.59500122 Tm\\n[(through new non-volatile memory devices that combine computation, and memory, and new automated design tools using machine learning. Other memory devices)] TJ\\n1 0 0 -1 0 104.59500122 Tm\\n[(could also leverage an emerging understanding of the physics of magnetic states, electron spin properties, topological insulators, or phase-changing materials. Beyond)] TJ\\n1 0 0 -1 0 116.59500122 Tm\\n[(Scaling programs will address fundamental exploration into each of these areas.)] TJ\\n1 0 0 -1 0 140.59500122 Tm\\n[(The Materials Sciences project provides the fundamental research that underpins the design, development, assembly, and optimization of advanced materials, devices,)] TJ\\n1 0 0 -1 0 152.59500122 Tm\\n[(and systems for DoD applications in areas such as robust diagnostics and therapeutics, novel energetic materials, and complex hybrid systems.)] TJ\\n1 0 0 -1 0 176.59500122 Tm\\n[(The Transformative Sciences project supports research and analysis that leverages converging technological forces and transformational trends in information-intensive)] TJ\\n1 0 0 -1 0 188.59500122 Tm\\n[(subareas of the social sciences, life sciences, and manufacturing.  The project integrates these diverse disciplines to eliminate reliance on foreign sources for critical)] TJ\\n1 0 0 -1 0 200.59500122 Tm\\n[(materials, improve military adaptation to sudden changes in requirements, threats, and emerging/converging trends, especially trends that have the potential to disrupt)] TJ\\n1 0 0 -1 0 212.59500122 Tm\\n[(military operations or threaten National Security.  Specific research in this project will investigate technologies to enable detection of novel threat agents \\\\(e.g., bacterial)] TJ\\n1 0 0 -1 0 224.59500122 Tm\\n[(pathogens\\\\) and maintain warfighter health and improve recovery.  This project also includes efforts to create innovative materials of interest to the military \\\\(e.g., self-)] TJ\\n1 0 0 -1 0 236.59500122 Tm\\n[(healing materials\\\\).)] TJ\\n ET\\n Q\\n q\\n1 0 0 1 0 295.27 cm\\n Q\\n q\\n1 0 0 1 0 302.47 cm\\n q\\n1 0 0 1 2 0 cm\\n0 g\\n BT\\n/F16 10 Tf\\n1 0 0 -1 0 10.59000015 Tm\\n[(B. Program Change Summary \\\\($ in Millions\\\\))] TJ\\n ET\\n0 11.509 208.149994 0.262 re\\n f\\n Q\\n q\\n1 0 0 1 274.896 0 cm\\n0 g\\n BT\\n/F16 10 Tf\\n1 0 0 -1 28.95400047 8.59000015 Tm\\n[(FY 2020)] TJ\\n ET\\n28.954 9.509 37.77 0.262 re\\n f\\n Q\\n q\\n1 0 0 1 343.62 0 cm\\n0 g\\n BT\\n/F16 10 Tf\\n1 0 0 -1 28.95400047 8.59000015 Tm\\n[(FY 2021)] TJ\\n ET\\n28.954 9.509 37.77 0.262 re\\n f\\n Q\\n q\\n1 0 0 1 412.344 0 cm\\n0 g\\n BT\\n/F16 10 Tf\\n1 0 0 -1 36.64599991 8.59000015 Tm\\n[(FY 2022 Base)] TJ\\n ET\\n36.646 9.509 64.440002 0.262 re\\n f\\n Q\\n q\\n1 0 0 1 515.43 0 cm\\n0 g\\n BT\\n/F16 10 Tf\\n1 0 0 -1 37.7859993 8.59000015 Tm\\n[(FY 2022 OCO)] TJ\\n ET\\n37.785999 9.509 63.299999 0.262 re\\n f\\n Q\\n q\\n1 0 0 1 618.516 0 cm\\n0 g\\n BT\\n/F16 10 Tf\\n1 0 0 -1 37.42599869 8.59000015 Tm\\n[(FY 2022 T) 74 (otal)] TJ\\n ET\\n37.425999 9.509 63.66 0.262 re\\n f\\n Q\\n q\\n1 0 0 1 721.602 0 cm\\n Q\\n q\\n1 0 0 1 36 15 cm\\n0 g\\n BT\\n/F15 10 Tf\\n1 0 0 -1 0 8.59500027 Tm\\n[(Previous President\\'s Budget)] TJ\\n ET\\n Q\\n q\\n1 0 0 1 274.896 15 cm\\n0 g\\n BT\\n/F15 10 Tf\\n1 0 0 -1 30.59399986 8.59500027 Tm\\n[(432.284)] TJ\\n ET\\n Q\\n q\\n1 0 0 1 343.62 15 cm\\n0 g\\n BT\\n/F15 10 Tf\\n1 0 0 -1 30.59399986 8.59500027 Tm\\n[(479.958)] TJ\\n ET\\n Q\\n q\\n1 0 0 1 412.344 15 cm\\n0 g\\n BT\\n/F15 10 Tf\\n1 0 0 -1 64.95600128 8.59500027 Tm\\n[(415.112)] TJ\\n ET\\n Q\\n q\\n1 0 0 1 515.43 15 cm\\n0 g\\n BT\\n/F15 10 Tf\\n1 0 0 -1 92.21600342 8.59500027 Tm\\n[(-\\xa0\\xa0)] TJ\\n ET\\n Q\\n q\\n1 0 0 1 618.516 15 cm\\n0 g\\n BT\\n/F15 10 Tf\\n1 0 0 -1 64.95600128 8.59500027 Tm\\n[(415.112)] TJ\\n ET\\n Q\\n q\\n1 0 0 1 36 27 cm\\n0 g\\n BT\\n/F15 10 Tf\\n1 0 0 -1 0 8.59500027 Tm\\n[(Current President\\'s Budget)] TJ\\n ET\\n Q\\n q\\n1 0 0 1 274.896 27 cm\\n0 g\\n BT\\n/F15 10 Tf\\n1 0 0 -1 30.59399986 8.59500027 Tm\\n[(427.837)] TJ\\n ET\\n Q\\n q\\n1 0 0 1 343.62 27 cm\\n0 g\\n BT\\n/F15 10 Tf\\n1 0 0 -1 30.59399986 8.59500027 Tm\\n[(474.158)] TJ\\n ET\\n Q\\n q\\n1 0 0 1 412.344 27 cm\\n0 g\\n BT\\n/F15 10 Tf\\n1 0 0 -1 64.95600128 8.59500027 Tm\\n[(395.781)] TJ\\n ET\\n Q\\n q\\n1 0 0 1 515.43 27 cm\\n0 g\\n BT\\n/F15 10 Tf\\n1 0 0 -1 92.21600342 8.59500027 Tm\\n[(-\\xa0\\xa0)] TJ\\n ET\\n Q\\n q\\n1 0 0 1 618.516 27 cm\\n0 g\\n BT\\n/F15 10 Tf\\n1 0 0 -1 64.95600128 8.59500027 Tm\\n[(395.781)] TJ\\n ET\\n Q\\n q\\n1 0 0 1 36 39 cm\\n0 g\\n BT\\n/F15 10 Tf\\n1 0 0 -1 0 8.59500027 Tm\\n[(Total Adjustments)] TJ\\n ET\\n Q\\n q\\n1 0 0 1 274.896 39 cm\\n0 g\\n BT\\n/F15 10 Tf\\n1 0 0 -1 38.38399887 8.59500027 Tm\\n[(-4.447)] TJ\\n ET\\n Q\\n q\\n1 0 0 1 343.62 39 cm\\n0 g\\n BT\\n/F15 10 Tf\\n1 0 0 -1 38.38399887 8.59500027 Tm\\n[(-5.800)] TJ\\n ET\\n Q\\n q\\n1 0 0 1 412.344 39 cm\\n0 g\\n BT\\n/F15 10 Tf\\n1 0 0 -1 67.18599701 8.59500027 Tm\\n[(-19.331)] TJ\\n ET\\n Q\\n q\\n1 0 0 1 515.43 39 cm\\n0 g\\n BT\\n/F15 10 Tf\\n1 0 0 -1 92.21600342 8.59500027 Tm\\n[(-\\xa0\\xa0)] TJ\\n ET\\n Q\\n q\\n1 0 0 1 618.516 39 cm\\n0 g\\n BT\\n/F15 10 Tf\\n1 0 0 -1 67.18599701 8.59500027 Tm\\n[(-19.331)] TJ\\n ET\\n Q\\n q\\n1 0 0 1 72 51 cm\\n0 g\\n BT\\n/F15 10 Tf\\n1 0 0 -1 0 8.59500027 Tm\\n[(• Congressional General Reductions)] TJ\\n ET\\n Q\\n q\\n1 0 0 1 274.896 51 cm\\n0 g\\n BT\\n/F15 10 Tf\\n1 0 0 -1 41.7140007 8.59500027 Tm\\n[(0.000)] TJ\\n ET\\n Q\\n q\\n1 0 0 1 343.62 51 cm\\n0 g\\n BT\\n/F15 10 Tf\\n1 0 0 -1 32.82400131 8.59500027 Tm\\n[(-13.800)] TJ\\n ET\\n Q\\n q\\n1 0 0 1 412.344 51 cm\\n Q\\n q\\n1 0 0 1 72 63 cm\\n0 g\\n BT\\n/F15 10 Tf\\n1 0 0 -1 0 8.59500027 Tm\\n[(• Congressional Directed Reductions)] TJ\\n ET\\n Q\\n q\\n1 0 0 1 274.896 63 cm\\n0 g\\n BT\\n/F15 10 Tf\\n1 0 0 -1 41.7140007 8.59500027 Tm\\n[(0.000)] TJ\\n ET\\n Q\\n q\\n1 0 0 1 343.62 63 cm\\n0 g\\n BT\\n/F15 10 Tf\\n1 0 0 -1 41.7140007 8.59500027 Tm\\n[(0.000)] TJ\\n ET\\n Q\\n q\\n1 0 0 1 412.344 63 cm\\n Q\\n q\\n1 0 0 1 72 75 cm\\n0 g\\n BT\\n/F15 10 Tf\\n1 0 0 -1 0 8.59500027 Tm\\n[(• Congressional Rescissions)] TJ\\n ET\\n Q\\n q\\n1 0 0 1 274.896 75 cm\\n0 g\\n BT\\n/F15 10 Tf\\n1 0 0 -1 41.7140007 8.59500027 Tm\\n[(0.000)] TJ\\n ET\\n Q\\n q\\n1 0 0 1 343.62 75 cm\\n0 g\\n BT\\n/F15 10 Tf\\n1 0 0 -1 41.7140007 8.59500027 Tm\\n[(0.000)] TJ\\n ET\\n Q\\n q\\n1 0 0 1 412.344 75 cm\\n Q\\n q\\n1 0 0 1 72 87 cm\\n0 g\\n BT\\n/F15 10 Tf\\n1 0 0 -1 0 8.59500027 Tm\\n[(• Congressional Adds)] TJ\\n ET\\n Q\\n q\\n1 0 0 1 274.896 87 cm\\n0 g\\n BT\\n/F15 10 Tf\\n1 0 0 -1 41.7140007 8.59500027 Tm\\n[(0.304)] TJ\\n ET\\n Q\\n q\\n1 0 0 1 343.62 87 cm\\n0 g\\n BT\\n/F15 10 Tf\\n1 0 0 -1 41.7140007 8.59500027 Tm\\n[(8.000)] TJ\\n ET\\n Q\\n q\\n1 0 0 1 412.344 87 cm\\n Q\\n q\\n1 0 0 1 72 99 cm\\n0 g\\n BT\\n/F15 10 Tf\\n1 0 0 -1 0 8.59500027 Tm\\n[(• Congressional Directed Transfers)] TJ\\n ET\\n Q\\n q\\n1 0 0 1 274.896 99 cm\\n0 g\\n BT\\n/F15 10 Tf\\n1 0 0 -1 41.7140007 8.59500027 Tm\\n[(0.000)] TJ\\n ET\\n Q\\n q\\n1 0 0 1 343.62 99 cm\\n0 g\\n BT\\n/F15 10 Tf\\n1 0 0 -1 41.7140007 8.59500027 Tm\\n[(0.000)] TJ\\n ET\\n Q\\n q\\n1 0 0 1 412.344 99 cm\\n Q\\n q\\n1 0 0 1 72 111 cm\\n0 g\\n BT\\n/F15 10 Tf\\n1 0 0 -1 0 8.59500027 Tm\\n[(• Reprogrammings)] TJ\\n ET\\n Q\\n q\\n1 0 0 1 274.896 111 cm\\n0 g\\n BT\\n/F15 10 Tf\\n1 0 0 -1 38.38399887 8.59500027 Tm\\n[(-0.751)] TJ\\n ET\\n Q\\n q\\n1 0 0 1 343.62 111 cm\\n0 g\\n BT\\n/F15 10 Tf\\n1 0 0 -1 41.7140007 8.59500027 Tm\\n[(0.000)] TJ\\n ET\\n Q\\n q\\n1 0 0 1 412.344 111 cm\\n Q\\n q\\n1 0 0 1 72 123 cm\\n0 g\\n BT\\n/F15 10 Tf\\n1 0 0 -1 0 8.59500027 Tm\\n[(• SBIR/STTR Transfer)] TJ\\n ET\\n Q\\n q\\n1 0 0 1 274.896 123 cm\\n0 g\\n BT\\n/F15 10 Tf\\n1 0 0 -1 38.38399887 8.59500027 Tm\\n[(-4.000)] TJ\\n ET\\n Q\\n q\\n1 0 0 1 343.62 123 cm\\n0 g\\n BT\\n/F15 10 Tf\\n1 0 0 -1 41.7140007 8.59500027 Tm\\n[(0.000)] TJ\\n ET\\n Q\\n q\\n1 0 0 1 412.344 123 cm\\n Q\\n q\\n1 0 0 1 72 135 cm\\n0 g\\n BT\\n/F15 10 Tf\\n1 0 0 -1 0 8.59500027 Tm\\n[(• TotalOtherAdjustments)] TJ\\n ET\\n Q\\n q\\n1 0 0 1 274.896 135 cm\\n0 g\\n BT\\n/F15 10 Tf\\n1 0 0 -1 57.85400009 8.59500027 Tm\\n[(-\\xa0\\xa0)] TJ\\n ET\\n Q\\n q\\n1 0 0 1 343.62 135 cm\\n0 g\\n BT\\n/F15 10 Tf\\n1 0 0 -1 57.85400009 8.59500027 Tm\\n[(-\\xa0\\xa0)] TJ\\n ET\\n Q\\n q\\n1 0 0 1 412.344 135 cm\\n0 g\\n BT\\n/F15 10 Tf\\n1 0 0 -1 67.18599701 8.59500027 Tm\\n[(-19.331)] TJ\\n ET\\n Q\\n q\\n1 0 0 1 515.43 135 cm\\n0 g\\n BT\\n/F15 10 Tf\\n1 0 0 -1 92.21600342 8.59500027 Tm\\n[(-\\xa0\\xa0)] TJ\\n ET\\n Q\\n q\\n1 0 0 1 618.516 135 cm\\n0 g\\n BT\\n/F15 10 Tf\\n1 0 0 -1 67.18599701 8.59500027 Tm\\n[(-19.331)] TJ\\n ET\\n Q\\n Q\\n q\\n1 0 0 1 0 449.47 cm\\n Q\\n Q\\n Q\\n Q\\n q\\n BT\\n/Xi40 9 Tf\\n1 0 0 1 713.98 30 Tm\\n(Volume 1 - 2) Tj\\n ET\\n1 w\\n674 27 100 13 re\\n S\\n BT\\n/Xi41 9 Tf\\n1 0 0 1 20 592 Tm\\n( ) Tj\\n1 0 0 1 20 10 Tm\\n( ) Tj\\n1 0 0 1 769.5 592 Tm\\n( ) Tj\\n1 0 0 1 769.5 10 Tm\\n( ) Tj\\n ET\\n Q'"
      ]
     },
     "execution_count": 20,
     "metadata": {},
     "output_type": "execute_result"
    }
   ],
   "source": [
    "page_texts[21]"
   ]
  },
  {
   "cell_type": "code",
   "execution_count": 49,
   "id": "d848cd47",
   "metadata": {},
   "outputs": [
    {
     "name": "stdout",
     "output_type": "stream",
     "text": [
      "preface 2\n",
      "preface 26\n",
      "A 133\n"
     ]
    }
   ],
   "source": [
    "content_21 = extract_content(page_texts[20])\n",
    "for i, text in tqdm.tqdm(enumerate(content_21)):\n",
    "    if \"DEFENSE RESEARCH SCIENCES\" in text[2:-2]:\n",
    "        print('preface', i)\n",
    "    if 'A. Mission Description' in text[2:-2]:\n",
    "        print('A', i) \n",
    "    if 'B. Program Change Summary ($ in Millions)' in text[2:-2]:\n",
    "        print('B', i)"
   ]
  },
  {
   "cell_type": "code",
   "execution_count": null,
   "id": "da14a124",
   "metadata": {},
   "outputs": [],
   "source": []
  },
  {
   "cell_type": "code",
   "execution_count": 96,
   "id": "5494d776",
   "metadata": {},
   "outputs": [
    {
     "name": "stderr",
     "output_type": "stream",
     "text": [
      "100%|████████████████████████████████████████████████████| 234/234 [00:00<00:00, 20658.55it/s]\n"
     ]
    }
   ],
   "source": [
    "master_content = []\n",
    "for i in tqdm.tqdm(range(20, 254)):\n",
    "    master_content += extract_content(page_texts[i])"
   ]
  },
  {
   "cell_type": "code",
   "execution_count": 97,
   "id": "3503b835",
   "metadata": {},
   "outputs": [],
   "source": [
    "def flag_title(content):\n",
    "    search_object = re.search('\\[\\([A-Z]\\. (.*)', content)\n",
    "    return search_object"
   ]
  },
  {
   "cell_type": "code",
   "execution_count": 104,
   "id": "b74d222a",
   "metadata": {},
   "outputs": [],
   "source": [
    "benchmarks = []\n",
    "for i, content in enumerate(master_content):\n",
    "    match = flag_title(content)\n",
    "    if match:\n",
    "        benchmarks.append(i)"
   ]
  },
  {
   "cell_type": "code",
   "execution_count": 105,
   "id": "1d1848b3",
   "metadata": {},
   "outputs": [
    {
     "data": {
      "text/plain": [
       "(106, 141)"
      ]
     },
     "execution_count": 105,
     "metadata": {},
     "output_type": "execute_result"
    }
   ],
   "source": [
    "benchmarks[0], benchmarks[1]"
   ]
  },
  {
   "cell_type": "code",
   "execution_count": 108,
   "id": "4994f600",
   "metadata": {},
   "outputs": [],
   "source": [
    "splits = [master_content[i:j] for i,j in zip(benchmarks, benchmarks[1:]+[None])]"
   ]
  },
  {
   "cell_type": "code",
   "execution_count": 128,
   "id": "b35a510d",
   "metadata": {},
   "outputs": [],
   "source": [
    "def flag_project_title(content):\n",
    "    search_object = re.search(r'(\\[\\(T\\) 18 \\(itle: \\))', content)\n",
    "    return search_object\n",
    "def flag_fy(content):\n",
    "    search_object = re.search(r'(\\[\\(FY [0-9]{4})', content)\n",
    "    return search_object"
   ]
  },
  {
   "cell_type": "code",
   "execution_count": 143,
   "id": "3734a239",
   "metadata": {},
   "outputs": [
    {
     "name": "stdout",
     "output_type": "stream",
     "text": [
      "268 [(T) 18 (itle: )]\n",
      "283 [(FY 2021 Plans:)]\n",
      "340 [(T) 18 (itle: )]\n",
      "355 [(FY 2021 Plans:)]\n",
      "386 [(T) 18 (itle: )]\n",
      "399 [(FY 2021 Plans:)]\n",
      "431 [(T) 18 (itle: )]\n",
      "442 [(FY 2021 Plans:)]\n",
      "466 [(T) 18 (itle: )]\n",
      "479 [(FY 2021 Plans:)]\n",
      "496 [(T) 18 (itle: )]\n",
      "509 [(FY 2020)]\n",
      "554 [(T) 18 (itle: )]\n",
      "567 [(FY 2021 Plans:)]\n",
      "593 [(T) 18 (itle: )]\n",
      "603 [(FY 2021 Plans:)]\n",
      "621 [(T) 18 (itle: )]\n",
      "635 [(FY 2020)]\n",
      "658 [(T) 18 (itle: )]\n",
      "669 [(FY 2021 Plans:)]\n",
      "691 [(T) 18 (itle: )]\n",
      "705 [(FY 2021 Plans:)]\n",
      "735 [(T) 18 (itle: )]\n",
      "748 [(FY 2021 Plans:)]\n",
      "771 [(T) 18 (itle: )]\n",
      "788 [(FY 2021 Plans:)]\n",
      "814 [(T) 18 (itle: )]\n",
      "826 [(FY 2022 Plans:)]\n",
      "839 [(T) 18 (itle: )]\n",
      "848 [(FY 2020)]\n",
      "870 [(T) 18 (itle: )]\n",
      "892 [(FY 2020)]\n",
      "902 [(T) 18 (itle: )]\n",
      "913 [(FY 2021 Plans:)]\n",
      "920 [(T) 18 (itle: )]\n",
      "929 [(FY 2021 Plans:)]\n",
      "1023 [(T) 18 (itle: )]\n",
      "1035 [(FY 2021 Plans:)]\n",
      "1054 [(T) 18 (itle: )]\n",
      "1067 [(FY 2021 Plans:)]\n",
      "1079 [(T) 18 (itle: )]\n",
      "1093 [(FY 2020)]\n",
      "1109 [(T) 18 (itle: )]\n",
      "1124 [(FY 2021 Plans:)]\n",
      "1137 [(T) 18 (itle: )]\n",
      "1162 [(FY 2020)]\n",
      "1205 [(T) 18 (itle: )]\n",
      "1214 [(FY 2021 Plans:)]\n",
      "1227 [(T) 18 (itle: )]\n",
      "1235 [(FY 2020)]\n",
      "1265 [(T) 18 (itle: )]\n",
      "1278 [(FY 2020)]\n",
      "1297 [(T) 18 (itle: )]\n",
      "1310 [(FY 2021 Plans:)]\n",
      "1380 [(T) 18 (itle: )]\n",
      "1392 [(FY 2021 Plans:)]\n",
      "1407 [(T) 18 (itle: )]\n",
      "1415 [(FY 2020)]\n",
      "1461 [(T) 18 (itle: )]\n",
      "1469 [(FY 2021 Plans:)]\n",
      "1500 [(T) 18 (itle: )]\n",
      "1510 [(FY 2021 Plans:)]\n",
      "1581 [(T) 18 (itle: )]\n",
      "1593 [(FY 2021 Plans:)]\n",
      "1614 [(T) 18 (itle: )]\n",
      "1627 [(FY 2021 Plans:)]\n",
      "1653 [(T) 18 (itle: )]\n",
      "1663 [(FY 2021 Plans:)]\n",
      "1673 [(T) 18 (itle: )]\n",
      "1685 [(FY 2021 Plans:)]\n",
      "1699 [(T) 18 (itle: )]\n",
      "1724 [(FY 2020)]\n",
      "1838 [(T) 18 (itle: )]\n",
      "1848 [(FY 2021 Plans:)]\n",
      "1867 [(T) 18 (itle: )]\n",
      "1879 [(FY 2020)]\n",
      "1899 [(T) 18 (itle: )]\n",
      "1913 [(FY 2021 Plans:)]\n",
      "1933 [(T) 18 (itle: )]\n",
      "1944 [(FY 2021 Plans:)]\n",
      "1965 [(T) 18 (itle: )]\n",
      "1975 [(FY 2021 Plans:)]\n",
      "1992 [(T) 18 (itle: )]\n",
      "2002 [(FY 2020)]\n",
      "2152 [(T) 18 (itle: )]\n",
      "2161 [(FY 2021 Plans:)]\n",
      "2176 [(T) 18 (itle: )]\n",
      "2191 [(FY 2020)]\n",
      "2207 [(T) 18 (itle: )]\n",
      "2216 [(FY 2021 Plans:)]\n",
      "2235 [(T) 18 (itle: )]\n",
      "2245 [(FY 2021 Plans:)]\n",
      "2261 [(T) 18 (itle: )]\n",
      "2272 [(FY 2020)]\n",
      "2291 [(T) 18 (itle: )]\n",
      "2303 [(FY 2021 Plans:)]\n",
      "2323 [(T) 18 (itle: )]\n",
      "2332 [(FY 2022 Plans:)]\n",
      "2342 [(T) 18 (itle: )]\n",
      "2352 [(FY 2020)]\n",
      "2363 [(T) 18 (itle: )]\n",
      "2371 [(FY 2021 Plans:)]\n",
      "2380 [(T) 18 (itle: )]\n",
      "2393 [(FY 2020)]\n",
      "2624 [(T) 18 (itle: )]\n",
      "2634 [(FY 2021 Plans:)]\n",
      "2702 [(T) 18 (itle: )]\n",
      "2713 [(FY 2021 Plans:)]\n",
      "2739 [(T) 18 (itle: )]\n",
      "2751 [(FY 2021 Plans:)]\n",
      "2773 [(T) 18 (itle: )]\n",
      "2783 [(FY 2021 Plans:)]\n",
      "2804 [(T) 18 (itle: )]\n",
      "2812 [(FY 2020)]\n",
      "2841 [(T) 18 (itle: )]\n",
      "2855 [(FY 2020)]\n",
      "2878 [(T) 18 (itle: )]\n",
      "2896 [(FY 2020)]\n",
      "2915 [(T) 18 (itle: )]\n",
      "2926 [(FY 2021 Plans:)]\n",
      "2952 [(T) 18 (itle: )]\n",
      "2962 [(FY 2021 Plans:)]\n",
      "2985 [(T) 18 (itle: )]\n",
      "2994 [(FY 2021 Plans:)]\n",
      "3009 [(T) 18 (itle: )]\n",
      "3024 [(FY 2020)]\n",
      "3047 [(T) 18 (itle: )]\n",
      "3057 [(FY 2021 Plans:)]\n",
      "3077 [(T) 18 (itle: )]\n",
      "3087 [(FY 2021 Plans:)]\n",
      "3114 [(T) 18 (itle: )]\n",
      "3124 [(FY 2021 Plans:)]\n",
      "3142 [(T) 18 (itle: )]\n",
      "3150 [(FY 2020)]\n",
      "3172 [(T) 18 (itle: )]\n",
      "3191 [(FY 2020)]\n",
      "3207 [(T) 18 (itle: )]\n",
      "3222 [(FY 2021 Plans:)]\n",
      "3243 [(T) 18 (itle: )]\n",
      "3257 [(FY 2021 Plans:)]\n",
      "3289 [(T) 18 (itle: )]\n",
      "3296 [(FY 2021 Plans:)]\n",
      "3317 [(T) 18 (itle: )]\n",
      "3338 [(FY 2021 Plans:)]\n",
      "3365 [(T) 18 (itle: )]\n",
      "3373 [(FY 2021 Plans:)]\n",
      "3385 [(T) 18 (itle: )]\n",
      "3400 [(FY 2020)]\n",
      "3412 [(T) 18 (itle: )]\n",
      "3425 [(FY 2021 Plans:)]\n",
      "3436 [(T) 18 (itle: )]\n",
      "3444 [(FY 2020)]\n",
      "3454 [(T) 18 (itle: )]\n",
      "3485 [(FY 2020)]\n",
      "3557 [(T) 18 (itle: )]\n",
      "3580 [(FY 2020)]\n",
      "3646 [(T) 18 (itle: )]\n",
      "3663 [(FY 2020)]\n",
      "3687 [(T) 18 (itle: )]\n",
      "3705 [(FY 2020)]\n",
      "3725 [(T) 18 (itle: )]\n",
      "3737 [(FY 2021 Plans:)]\n",
      "3765 [(T) 18 (itle: )]\n",
      "3777 [(FY 2021 Plans:)]\n",
      "3806 [(T) 18 (itle: )]\n",
      "3818 [(FY 2021 Plans:)]\n",
      "3845 [(T) 18 (itle: )]\n",
      "3859 [(FY 2021 Plans:)]\n",
      "3883 [(T) 18 (itle: )]\n",
      "3898 [(FY 2021 Plans:)]\n",
      "3923 [(T) 18 (itle: )]\n",
      "3934 [(FY 2022 Plans:)]\n",
      "3946 [(T) 18 (itle: )]\n",
      "3962 [(FY 2020)]\n",
      "3981 [(T) 18 (itle: )]\n",
      "3993 [(FY 2022 Plans:)]\n",
      "4012 [(T) 18 (itle: )]\n",
      "4039 [(FY 2020)]\n",
      "4150 [(T) 18 (itle: )]\n",
      "4159 [(FY 2021 Plans:)]\n",
      "4437 [(T) 18 (itle: )]\n",
      "4450 [(FY 2021 Plans:)]\n",
      "4467 [(T) 18 (itle: )]\n",
      "4480 [(FY 2021 Plans:)]\n",
      "4493 [(T) 18 (itle: )]\n",
      "4508 [(FY 2020)]\n",
      "4570 [(T) 18 (itle: )]\n",
      "4582 [(FY 2021 Plans:)]\n",
      "4600 [(T) 18 (itle: )]\n",
      "4620 [(FY 2021 Plans:)]\n",
      "4633 [(T) 18 (itle: )]\n",
      "4641 [(FY 2020)]\n",
      "4681 [(T) 18 (itle: )]\n",
      "4692 [(FY 2021 Plans:)]\n",
      "4702 [(T) 18 (itle: )]\n",
      "4723 [(FY 2020)]\n",
      "4745 [(T) 18 (itle: )]\n",
      "4757 [(FY 2021 Plans:)]\n",
      "4771 [(T) 18 (itle: )]\n",
      "4779 [(FY 2021 Plans:)]\n",
      "4788 [(T) 18 (itle: )]\n",
      "4800 [(FY 2021 Plans:)]\n",
      "4815 [(T) 18 (itle: )]\n",
      "4837 [(FY 2020)]\n",
      "4898 [(T) 18 (itle: )]\n",
      "4909 [(FY 2021 Plans:)]\n",
      "4929 [(T) 18 (itle: )]\n",
      "4942 [(FY 2021 Plans:)]\n",
      "4956 [(T) 18 (itle: )]\n",
      "4965 [(FY 2021 Plans:)]\n",
      "4983 [(T) 18 (itle: )]\n",
      "4995 [(FY 2021 Plans:)]\n",
      "5003 [(T) 18 (itle: )]\n",
      "5017 [(FY 2020)]\n",
      "5088 [(T) 18 (itle: )]\n",
      "5100 [(FY 2021 Plans:)]\n",
      "5129 [(T) 18 (itle: )]\n",
      "5144 [(FY 2021 Plans:)]\n",
      "5163 [(T) 18 (itle: )]\n",
      "5175 [(FY 2021 Plans:)]\n",
      "5198 [(T) 18 (itle: )]\n",
      "5207 [(FY 2021 Plans:)]\n",
      "5226 [(T) 18 (itle: )]\n",
      "5239 [(FY 2020)]\n",
      "5261 [(T) 18 (itle: )]\n",
      "5273 [(FY 2021 Plans:)]\n",
      "5294 [(T) 18 (itle: )]\n",
      "5309 [(FY 2021 Plans:)]\n",
      "5337 [(T) 18 (itle: )]\n",
      "5349 [(FY 2022 Plans:)]\n",
      "5367 [(T) 18 (itle: )]\n",
      "5390 [(FY 2020)]\n",
      "5566 [(T) 18 (itle: )]\n",
      "5581 [(FY 2021 Plans:)]\n",
      "5614 [(T) 18 (itle: )]\n",
      "5626 [(FY 2021 Plans:)]\n",
      "5665 [(T) 18 (itle: )]\n",
      "5681 [(FY 2020)]\n",
      "5700 [(T) 18 (itle: )]\n",
      "5713 [(FY 2021 Plans:)]\n",
      "5735 [(T) 18 (itle: )]\n",
      "5748 [(FY 2021 Plans:)]\n",
      "5760 [(T) 18 (itle: )]\n",
      "5769 [(FY 2020)]\n",
      "5790 [(T) 18 (itle: )]\n",
      "5824 [(FY 2020)]\n",
      "5870 [(T) 18 (itle: )]\n",
      "5881 [(FY 2021 Plans:)]\n",
      "5906 [(T) 18 (itle: )]\n",
      "5915 [(FY 2021 Plans:)]\n",
      "5943 [(T) 18 (itle: )]\n",
      "5953 [(FY 2021 Plans:)]\n",
      "5971 [(T) 18 (itle: )]\n",
      "5983 [(FY 2020)]\n",
      "6007 [(T) 18 (itle: )]\n",
      "6026 [(FY 2020)]\n",
      "6040 [(T) 18 (itle: )]\n",
      "6049 [(FY 2021 Plans:)]\n",
      "6072 [(T) 18 (itle: )]\n",
      "6082 [(FY 2021 Plans:)]\n",
      "6098 [(T) 18 (itle: )]\n",
      "6114 [(FY 2020)]\n",
      "6135 [(T) 18 (itle: )]\n",
      "6147 [(FY 2021 Plans:)]\n",
      "6169 [(T) 18 (itle: )]\n",
      "6181 [(FY 2022 Plans:)]\n",
      "6190 [(T) 18 (itle: )]\n",
      "6202 [(FY 2020)]\n",
      "6219 [(T) 18 (itle: )]\n",
      "6229 [(FY 2021 Plans:)]\n",
      "6238 [(T) 18 (itle: )]\n",
      "6247 [(FY 2020)]\n",
      "6265 [(T) 18 (itle: )]\n",
      "6289 [(FY 2020)]\n",
      "6471 [(T) 18 (itle: )]\n",
      "6481 [(FY 2021 Plans:)]\n",
      "6493 [(T) 18 (itle: )]\n",
      "6501 [(FY 2020)]\n",
      "6522 [(T) 18 (itle: )]\n",
      "6534 [(FY 2021 Plans:)]\n",
      "6557 [(T) 18 (itle: )]\n",
      "6569 [(FY 2021 Plans:)]\n",
      "6588 [(T) 18 (itle: )]\n",
      "6606 [(FY 2021 Plans:)]\n",
      "6619 [(T) 18 (itle: )]\n",
      "6630 [(FY 2020)]\n",
      "6653 [(T) 18 (itle: )]\n",
      "6672 [(FY 2020)]\n",
      "6686 [(T) 18 (itle: )]\n",
      "6695 [(FY 2022 Plans:)]\n",
      "6704 [(T) 18 (itle: )]\n",
      "6717 [(FY 2020)]\n",
      "6729 [(T) 18 (itle: )]\n",
      "6738 [(FY 2022 Plans:)]\n",
      "6747 [(T) 18 (itle: )]\n",
      "6762 [(FY 2020)]\n",
      "6772 [(T) 18 (itle: )]\n",
      "6783 [(FY 2021 Plans:)]\n",
      "6806 [(T) 18 (itle: )]\n",
      "6855 [(FY 2020)]\n",
      "6866 [(T) 18 (itle: )]\n",
      "6904 [(FY 2020)]\n",
      "6948 [(T) 18 (itle: )]\n",
      "6959 [(FY 2021 Plans:)]\n",
      "6984 [(T) 18 (itle: )]\n",
      "6994 [(FY 2021 Plans:)]\n",
      "7011 [(T) 18 (itle: )]\n",
      "7020 [(FY 2020)]\n",
      "7049 [(T) 18 (itle: )]\n",
      "7064 [(FY 2020)]\n",
      "7082 [(T) 18 (itle: )]\n",
      "7096 [(FY 2021 Plans:)]\n",
      "7118 [(T) 18 (itle: )]\n",
      "7128 [(FY 2021 Plans:)]\n",
      "7153 [(T) 18 (itle: )]\n",
      "7165 [(FY 2021 Plans:)]\n",
      "7180 [(T) 18 (itle: )]\n",
      "7194 [(FY 2020)]\n",
      "7212 [(T) 18 (itle: )]\n",
      "7223 [(FY 2021 Plans:)]\n",
      "7242 [(T) 18 (itle: )]\n",
      "7254 [(FY 2021 Plans:)]\n",
      "7267 [(T) 18 (itle: )]\n",
      "7282 [(FY 2020)]\n",
      "7290 [(T) 18 (itle: )]\n",
      "7299 [(FY 2022 Plans:)]\n",
      "7308 [(T) 18 (itle: )]\n",
      "7317 [(FY 2022 Plans:)]\n",
      "7332 [(T) 18 (itle: )]\n",
      "7342 [(FY 2021 Plans:)]\n",
      "7498 [(T) 18 (itle: )]\n",
      "7511 [(FY 2021 Plans:)]\n",
      "7545 [(T) 18 (itle: )]\n",
      "7556 [(FY 2021 Plans:)]\n",
      "7575 [(T) 18 (itle: )]\n",
      "7581 [(FY 2021 Plans:)]\n",
      "7592 [(T) 18 (itle: )]\n",
      "7603 [(FY 2021 Plans:)]\n",
      "7621 [(T) 18 (itle: )]\n",
      "7632 [(FY 2021 Plans:)]\n",
      "7643 [(T) 18 (itle: )]\n",
      "7653 [(FY 2020)]\n",
      "7667 [(T) 18 (itle: )]\n",
      "7680 [(FY 2021 Plans:)]\n",
      "7702 [(T) 18 (itle: )]\n",
      "7714 [(FY 2021 Plans:)]\n",
      "7876 [(T) 18 (itle: )]\n",
      "7895 [(FY 2020)]\n",
      "7912 [(T) 18 (itle: )]\n",
      "7927 [(FY 2021 Plans:)]\n",
      "7953 [(T) 18 (itle: )]\n",
      "7963 [(FY 2021 Plans:)]\n",
      "7985 [(T) 18 (itle: )]\n",
      "7997 [(FY 2021 Plans:)]\n",
      "8006 [(T) 18 (itle: )]\n",
      "8016 [(FY 2020)]\n",
      "8027 [(T) 18 (itle: )]\n",
      "8067 [(FY 2020)]\n",
      "8256 [(T) 18 (itle: )]\n",
      "8273 [(FY 2021 Plans:)]\n",
      "8292 [(T) 18 (itle: )]\n",
      "8305 [(FY 2021 Plans:)]\n",
      "8319 [(T) 18 (itle: )]\n",
      "8328 [(FY 2020)]\n",
      "8350 [(T) 18 (itle: )]\n",
      "8379 [(FY 2020)]\n",
      "8431 [(T) 18 (itle: )]\n",
      "8446 [(FY 2021 Plans:)]\n",
      "8466 [(T) 18 (itle: )]\n",
      "8484 [(FY 2021 Plans:)]\n",
      "8508 [(T) 18 (itle: )]\n",
      "8525 [(FY 2021 Plans:)]\n",
      "8539 [(T) 18 (itle: )]\n",
      "8548 [(FY 2020)]\n",
      "8580 [(T) 18 (itle: )]\n",
      "8591 [(FY 2020)]\n",
      "8616 [(T) 18 (itle: )]\n",
      "8634 [(FY 2020)]\n",
      "8864 [(T) 18 (itle: )]\n",
      "8878 [(FY 2021 Plans:)]\n",
      "8898 [(T) 18 (itle: )]\n",
      "8911 [(FY 2021 Plans:)]\n",
      "8935 [(T) 18 (itle: )]\n",
      "8947 [(FY 2021 Plans:)]\n",
      "8962 [(T) 18 (itle: )]\n",
      "8978 [(FY 2020)]\n",
      "9004 [(T) 18 (itle: )]\n",
      "9021 [(FY 2020)]\n",
      "9042 [(T) 18 (itle: )]\n",
      "9054 [(FY 2022 Plans:)]\n",
      "9071 [(T) 18 (itle: )]\n",
      "9083 [(FY 2022 Plans:)]\n",
      "9093 [(T) 18 (itle: )]\n",
      "9103 [(FY 2021 Plans:)]\n",
      "9123 [(T) 18 (itle: )]\n",
      "9139 [(FY 2021 Plans:)]\n",
      "9148 [(T) 18 (itle: )]\n",
      "9158 [(FY 2020)]\n",
      "9263 [(T) 18 (itle: )]\n",
      "9267 [(FY 2021 Plans:)]\n",
      "9500 [(T) 18 (itle: )]\n",
      "9511 [(FY 2021 Plans:)]\n",
      "9531 [(T) 18 (itle: )]\n",
      "9544 [(FY 2021 Plans:)]\n",
      "9570 [(T) 18 (itle: )]\n",
      "9583 [(FY 2021 Plans:)]\n",
      "9612 [(T) 18 (itle: )]\n",
      "9626 [(FY 2021 Plans:)]\n",
      "9650 [(T) 18 (itle: )]\n",
      "9664 [(FY 2021 Plans:)]\n",
      "9677 [(T) 18 (itle: )]\n",
      "9692 [(FY 2020)]\n",
      "9700 [(T) 18 (itle: )]\n",
      "9734 [(FY 2020)]\n",
      "9786 [(T) 18 (itle: )]\n",
      "9800 [(FY 2021 Plans:)]\n",
      "9819 [(T) 18 (itle: )]\n",
      "9830 [(FY 2021 Plans:)]\n",
      "9843 [(T) 18 (itle: )]\n",
      "9859 [(FY 2020)]\n",
      "9877 [(T) 18 (itle: )]\n",
      "9891 [(FY 2021 Plans:)]\n",
      "9914 [(T) 18 (itle: )]\n",
      "9925 [(FY 2021 Plans:)]\n",
      "9945 [(T) 18 (itle: )]\n",
      "9960 [(FY 2021 Plans:)]\n",
      "9973 [(T) 18 (itle: )]\n",
      "9987 [(FY 2020)]\n",
      "10003 [(T) 18 (itle: )]\n",
      "10016 [(FY 2021 Plans:)]\n",
      "10037 [(T) 18 (itle: )]\n",
      "10050 [(FY 2022 Plans:)]\n",
      "10059 [(T) 18 (itle: )]\n",
      "10074 [(FY 2020)]\n",
      "10085 [(T) 18 (itle: )]\n",
      "10118 [(FY 2020)]\n",
      "10167 [(T) 18 (itle: )]\n",
      "10171 [(FY 2021 Plans:)]\n",
      "10395 [(T) 18 (itle: )]\n",
      "10405 [(FY 2021 Plans:)]\n",
      "10425 [(T) 18 (itle: )]\n",
      "10440 [(FY 2021 Plans:)]\n",
      "10451 [(T) 18 (itle: )]\n",
      "10464 [(FY 2020)]\n",
      "10476 [(T) 18 (itle: )]\n",
      "10490 [(FY 2021 Plans:)]\n",
      "10580 [(T) 18 (itle: )]\n",
      "10594 [(FY 2021 Plans:)]\n",
      "10618 [(T) 18 (itle: )]\n",
      "10632 [(FY 2021 Plans:)]\n",
      "10651 [(T) 18 (itle: )]\n",
      "10665 [(FY 2021 Plans:)]\n",
      "10680 [(T) 18 (itle: )]\n",
      "10690 [(FY 2020)]\n",
      "10718 [(T) 18 (itle: )]\n",
      "10731 [(FY 2020)]\n",
      "10743 [(T) 18 (itle: )]\n",
      "10777 [(FY 2020)]\n",
      "10783 [(T) 18 (itle: )]\n",
      "10824 [(FY 2020)]\n",
      "10889 [(T) 18 (itle: )]\n",
      "10893 [(FY 2021 Plans:)]\n",
      "11030 [(T) 18 (itle: )]\n",
      "11034 [(FY 2021 Plans:)]\n",
      "11174 [(T) 18 (itle: )]\n",
      "11182 [(FY 2020)]\n",
      "11317 [(T) 18 (itle: )]\n",
      "11324 [(FY 2020)]\n"
     ]
    }
   ],
   "source": [
    "benchmarks = []\n",
    "flip = True\n",
    "for i, content in enumerate(master_content):\n",
    "    match = None\n",
    "    if flip:\n",
    "        match = flag_project_title(content)\n",
    "    elif not flip:\n",
    "        match = flag_fy(content)\n",
    "    if match:\n",
    "        print(i, content)\n",
    "        benchmarks.append(i)\n",
    "        flip = not flip"
   ]
  },
  {
   "cell_type": "code",
   "execution_count": 151,
   "id": "4a1c8bbb",
   "metadata": {},
   "outputs": [
    {
     "data": {
      "text/plain": [
       "234.0"
      ]
     },
     "execution_count": 151,
     "metadata": {},
     "output_type": "execute_result"
    }
   ],
   "source": [
    "len(splits)/2"
   ]
  },
  {
   "cell_type": "code",
   "execution_count": 152,
   "id": "3906affc",
   "metadata": {},
   "outputs": [
    {
     "data": {
      "text/plain": [
       "(234, 234)"
      ]
     },
     "execution_count": 152,
     "metadata": {},
     "output_type": "execute_result"
    }
   ],
   "source": [
    "len(benchmarks[::2]), len(benchmarks[1::2])"
   ]
  },
  {
   "cell_type": "code",
   "execution_count": 154,
   "id": "5aef12fc",
   "metadata": {},
   "outputs": [
    {
     "data": {
      "text/plain": [
       "['[(T) 18 (itle: )]',\n",
       " '[(Young Faculty Award \\\\(YFA\\\\))]',\n",
       " '[(Description: )]',\n",
       " '[(The goal of the Young Faculty Award \\\\(YFA\\\\) program is to encourage junior faculty at universities and their)]',\n",
       " '[(equivalent at non-profit science and technology research institutions to participate in sponsored research programs that will)]',\n",
       " '[(augment capabilities for future defense systems. This program focuses on cutting-edge technologies for greatly enhancing)]',\n",
       " '[(microsystems technologies, biological technologies, and defense sciences. The long-term goal for this program is to develop the)]',\n",
       " '[(next generation of scientists, engineers, and mathematicians in key disciplines who will focus a significant portion of their careers)]',\n",
       " '[(on DoD and national security issues. The aim is for YFA recipients to receive deep interactions with DARPA program managers,)]',\n",
       " '[(programs, performers, and the user community. Current activities include research in fifteen topic areas spanning from Machine)]',\n",
       " '[(Learning and Many Body Physics, to Wideband Transmitter-Antenna Interfaces and Multi-Scale Models of Infectious Disease)]',\n",
       " '[(Dynamics. A key aspect of the YFA program is DARPA-sponsored military visits; all YFA Principal Investigators are expected to)]',\n",
       " '[(participate in one or more military site visits to help them better understand DoD needs.)]']"
      ]
     },
     "execution_count": 154,
     "metadata": {},
     "output_type": "execute_result"
    }
   ],
   "source": [
    "splits = [master_content[i:j] for i,j in zip(benchmarks[::2], benchmarks[1::2])]\n",
    "splits[4]"
   ]
  },
  {
   "cell_type": "code",
   "execution_count": 155,
   "id": "90a2a7bb",
   "metadata": {},
   "outputs": [],
   "source": [
    "import pickle\n",
    "with open('dod_projects.pickle', 'wb') as f:\n",
    "    pickle.dump(splits, f)"
   ]
  },
  {
   "cell_type": "code",
   "execution_count": null,
   "id": "18ad3228",
   "metadata": {},
   "outputs": [],
   "source": [
    "###### content_22 = extract_content(page_texts[21])\n",
    "for i, text in enumerate(content_22):\n",
    "    if \"DEFENSE RESEARCH SCIENCES\" in text[2:-2]:\n",
    "        print('preface', i)\n",
    "    if 'A. Mission Description' in text[2:-2]:\n",
    "        print('A', i) \n",
    "    if 'B. Program Change Summary' in text[2:-2]:\n",
    "        print('B', i)"
   ]
  },
  {
   "cell_type": "code",
   "execution_count": 48,
   "id": "464af258",
   "metadata": {},
   "outputs": [
    {
     "data": {
      "text/plain": [
       "['[(and magnetic components to reduce the size of Electromagnetic \\\\(EM\\\\) and sensing systems. Other research could support field-portable electronics with reduced power)]',\n",
       " '[(requirements, ultra-high density information storage \"on-a-chip\", and new approaches to nanometer-scale structures, molecules, and devices.)]',\n",
       " '[(The Beyond Scaling Sciences project supports investigations into materials, devices, and architectures to provide continued improvements in electronics performance)]',\n",
       " \"[(with or without the benefit of Moore's Law \\\\(silicon scaling\\\\). Within the next ten years, traditional scaling will start to encounter the fundamental physical limits of silicon,)]\",\n",
       " '[(requiring fresh approaches to new electronic systems. Over the short term, DoD will therefore need to unleash circuit specialization in order to maximize the benefit of)]',\n",
       " '[(traditional silicon. Over the longer term, DoD and the nation will need to engage the computer, material, and mechanical sciences to explore electronics improvements)]',\n",
       " '[(through new non-volatile memory devices that combine computation, and memory, and new automated design tools using machine learning. Other memory devices)]',\n",
       " '[(could also leverage an emerging understanding of the physics of magnetic states, electron spin properties, topological insulators, or phase-changing materials. Beyond)]',\n",
       " '[(Scaling programs will address fundamental exploration into each of these areas.)]',\n",
       " '[(The Materials Sciences project provides the fundamental research that underpins the design, development, assembly, and optimization of advanced materials, devices,)]',\n",
       " '[(and systems for DoD applications in areas such as robust diagnostics and therapeutics, novel energetic materials, and complex hybrid systems.)]',\n",
       " '[(The Transformative Sciences project supports research and analysis that leverages converging technological forces and transformational trends in information-intensive)]',\n",
       " '[(subareas of the social sciences, life sciences, and manufacturing.  The project integrates these diverse disciplines to eliminate reliance on foreign sources for critical)]',\n",
       " '[(materials, improve military adaptation to sudden changes in requirements, threats, and emerging/converging trends, especially trends that have the potential to disrupt)]',\n",
       " '[(military operations or threaten National Security.  Specific research in this project will investigate technologies to enable detection of novel threat agents \\\\(e.g., bacterial)]',\n",
       " '[(pathogens\\\\) and maintain warfighter health and improve recovery.  This project also includes efforts to create innovative materials of interest to the military \\\\(e.g., self-)]',\n",
       " '[(healing materials\\\\).)]']"
      ]
     },
     "execution_count": 48,
     "metadata": {},
     "output_type": "execute_result"
    }
   ],
   "source": [
    "content_22[27:44]"
   ]
  },
  {
   "cell_type": "code",
   "execution_count": 42,
   "id": "63c0420a",
   "metadata": {},
   "outputs": [],
   "source": [
    "page_21_text = page_21_canvas.text_content.encode('ascii', 'ignore').decode()"
   ]
  },
  {
   "cell_type": "code",
   "execution_count": 55,
   "id": "ca2d03a8",
   "metadata": {},
   "outputs": [
    {
     "data": {
      "text/plain": [
       "66434"
      ]
     },
     "execution_count": 55,
     "metadata": {},
     "output_type": "execute_result"
    }
   ],
   "source": [
    "match = re.search('\\[\\(A. Mission Description', page_21_text)\n",
    "match.start()"
   ]
  },
  {
   "cell_type": "code",
   "execution_count": 62,
   "id": "e42dc3e2",
   "metadata": {},
   "outputs": [
    {
     "data": {
      "text/plain": [
       "['[(A. Mission Description and Budget Item Justification)]',\n",
       " '[(The Defense Research Sciences Program Element is budgeted in the Basic Research Budget Activity because it provides the technical foundation for long-term National)]',\n",
       " '[(Security enhancement through the discovery of new phenomena and the exploration of the potential of such phenomena for Defense applications.  It supports the)]',\n",
       " '[(scientific study and experimentation that is the basis for more advanced knowledge and understanding in information, electronic, mathematical, computer, and materials)]',\n",
       " '[(sciences. This Program Element also supports innovation and robust transition planning in the technology cycle by working with entrepreneurs to increase the likelihood)]',\n",
       " '[(that DARPA funded technologies take root in the U.S. and provide new capabilities for national defense.)]',\n",
       " '[(The Math and Computer Sciences project supports scientific study and experimentation on new mathematical and computational algorithms, models, and mechanisms)]',\n",
       " '[(in support of long-term national security objectives.  Modern analytic and information technologies enable important new military capabilities and drive the productivity)]',\n",
       " '[(gains essential to U.S. economic competitiveness.  Conversely, new classes of threats, in particular threats that operate in or through the cyber domain, put military)]',\n",
       " '[(systems, critical infrastructure, and the civilian economy at risk.  This project aims to magnify these opportunities and mitigate these threats by leveraging emerging)]',\n",
       " '[(mathematical and computational capabilities including computational social science, artificial intelligence, machine learning and reasoning, data science, complex)]',\n",
       " '[(systems modeling and simulation, and theory of computation.  The basic research conducted under the Math and Computer Sciences project will produce breakthroughs)]',\n",
       " '[(that enable new capabilities for national and homeland security.)]',\n",
       " \"[(The Electronic Sciences project is for basic exploration of electronic and optoelectronic devices, circuits, and processing concepts to meet the military's need for near)]\",\n",
       " '[(real-time information gathering, transmission, and processing. In seeking to continue the phenomenal progress in microelectronics innovation that has characterized the)]',\n",
       " '[(last few decades, the project should provide DoD with new, improved, or potentially revolutionary device options for accomplishing these critical functions. The resulting)]',\n",
       " '[(technologies should help maintain knowledge of the enemy, communicate decisions based on that knowledge, and substantially improve the cost and performance of)]',\n",
       " '[(military systems. Research areas include analog, mixed signal, and photonic circuitry for communications and other applications; alternative computer architectures;)]']"
      ]
     },
     "execution_count": 62,
     "metadata": {},
     "output_type": "execute_result"
    }
   ],
   "source": [
    "re.findall('\\[\\(.*\\)\\]', page_21_text[match.start():])"
   ]
  },
  {
   "cell_type": "code",
   "execution_count": 60,
   "id": "43b2bf56",
   "metadata": {},
   "outputs": [
    {
     "data": {
      "text/plain": [
       "\"[(A. Mission Description and Budget Item Justification)] TJ\\n ET\\n0 11.509 250.320007 0.262 re\\n f\\n Q\\n q\\n1 0 0 1 5 245.97 cm\\n0 g\\n BT\\n/F15 10 Tf\\n1 0 0 -1 0 8.59500027 Tm\\n[(The Defense Research Sciences Program Element is budgeted in the Basic Research Budget Activity because it provides the technical foundation for long-term National)] TJ\\n1 0 0 -1 0 20.59499931 Tm\\n[(Security enhancement through the discovery of new phenomena and the exploration of the potential of such phenomena for Defense applications.  It supports the)] TJ\\n1 0 0 -1 0 32.59500122 Tm\\n[(scientific study and experimentation that is the basis for more advanced knowledge and understanding in information, electronic, mathematical, computer, and materials)] TJ\\n1 0 0 -1 0 44.59500122 Tm\\n[(sciences. This Program Element also supports innovation and robust transition planning in the technology cycle by working with entrepreneurs to increase the likelihood)] TJ\\n1 0 0 -1 0 56.59500122 Tm\\n[(that DARPA funded technologies take root in the U.S. and provide new capabilities for national defense.)] TJ\\n1 0 0 -1 0 80.59500122 Tm\\n[(The Math and Computer Sciences project supports scientific study and experimentation on new mathematical and computational algorithms, models, and mechanisms)] TJ\\n1 0 0 -1 0 92.59500122 Tm\\n[(in support of long-term national security objectives.  Modern analytic and information technologies enable important new military capabilities and drive the productivity)] TJ\\n1 0 0 -1 0 104.59500122 Tm\\n[(gains essential to U.S. economic competitiveness.  Conversely, new classes of threats, in particular threats that operate in or through the cyber domain, put military)] TJ\\n1 0 0 -1 0 116.59500122 Tm\\n[(systems, critical infrastructure, and the civilian economy at risk.  This project aims to magnify these opportunities and mitigate these threats by leveraging emerging)] TJ\\n1 0 0 -1 0 128.59500122 Tm\\n[(mathematical and computational capabilities including computational social science, artificial intelligence, machine learning and reasoning, data science, complex)] TJ\\n1 0 0 -1 0 140.59500122 Tm\\n[(systems modeling and simulation, and theory of computation.  The basic research conducted under the Math and Computer Sciences project will produce breakthroughs)] TJ\\n1 0 0 -1 0 152.59500122 Tm\\n[(that enable new capabilities for national and homeland security.)] TJ\\n1 0 0 -1 0 176.59500122 Tm\\n[(The Electronic Sciences project is for basic exploration of electronic and optoelectronic devices, circuits, and processing concepts to meet the military's need for near)] TJ\\n1 0 0 -1 0 188.59500122 Tm\\n[(real-time information gathering, transmission, and processing. In seeking to continue the phenomenal progress in microelectronics innovation that has characterized the)] TJ\\n1 0 0 -1 0 200.59500122 Tm\\n[(last few decades, the project should provide DoD with new, improved, or potentially revolutionary device options for accomplishing these critical functions. The resulting)] TJ\\n1 0 0 -1 0 212.59500122 Tm\\n[(technologies should help maintain knowledge of the enemy, communicate decisions based on that knowledge, and substantially improve the cost and performance of)] TJ\\n1 0 0 -1 0 224.59500122 Tm\\n[(military systems. Research areas include analog, mixed signal, and photonic circuitry for communications and other applications; alternative computer architectures;)] TJ\\n ET\\n Q\\n Q\\n Q\\n Q\\n q\\n BT\\n/Xi38 9 Tf\\n1 0 0 1 713.98 30 Tm\\n(Volume 1 - 1) Tj\\n ET\\n1 w\\n674 27 100 13 re\\n S\\n BT\\n/Xi39 9 Tf\\n1 0 0 1 20 592 Tm\\n( ) Tj\\n1 0 0 1 20 10 Tm\\n( ) Tj\\n1 0 0 1 769.5 592 Tm\\n( ) Tj\\n1 0 0 1 769.5 10 Tm\\n( ) Tj\\n ET\\n Q\""
      ]
     },
     "execution_count": 60,
     "metadata": {},
     "output_type": "execute_result"
    }
   ],
   "source": []
  },
  {
   "cell_type": "code",
   "execution_count": null,
   "id": "6a203426",
   "metadata": {},
   "outputs": [],
   "source": []
  }
 ],
 "metadata": {
  "kernelspec": {
   "display_name": "dod_visualization",
   "language": "python",
   "name": "dod_visualization"
  },
  "language_info": {
   "codemirror_mode": {
    "name": "ipython",
    "version": 3
   },
   "file_extension": ".py",
   "mimetype": "text/x-python",
   "name": "python",
   "nbconvert_exporter": "python",
   "pygments_lexer": "ipython3",
   "version": "3.8.10"
  }
 },
 "nbformat": 4,
 "nbformat_minor": 5
}
